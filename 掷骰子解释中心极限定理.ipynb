{
 "cells": [
  {
   "cell_type": "markdown",
   "metadata": {},
   "source": [
    "# 掷骰子试验解释中心极限定理\n",
    "\n",
    "## 前言\n",
    "\n",
    ">     很多情况下，我们无法通过测量整体中的每一个样本的方法获得确切的数据。比如，想知道国人的平均体重，我们不可能把所有人的体重都测量一遍然后取平均值，但是通过科学的抽样，我们就可以以样本的体重平均值代替整体的体重均值，这之所以成立的基础就是中心极限定理。\n",
    "\n",
    ">     中心极限定理，简而言之，就是不管整体分布任何，从其中取一定数量的样本记为一组，重复此过程n次，这n组的平均值会在整体均值附近形成正态分布。一般而言，样本数量应尽可能大，最好大于30，重复次数应尽可能多，这样才能最大限度降低误差。下面，我将通过模拟多次掷骰子试验来验证中心极限定理。"
   ]
  },
  {
   "cell_type": "code",
   "execution_count": 5,
   "metadata": {},
   "outputs": [],
   "source": [
    "import pandas as pd\n",
    "import numpy as np\n",
    "import seaborn as sns\n",
    "% matplotlib inline"
   ]
  },
  {
   "cell_type": "code",
   "execution_count": 6,
   "metadata": {},
   "outputs": [
    {
     "data": {
      "text/plain": [
       "3.5002399999999998"
      ]
     },
     "execution_count": 6,
     "metadata": {},
     "output_type": "execute_result"
    }
   ],
   "source": [
    "#模拟10万次掷骰子试验，以此为总体数据，并计算总体均值\n",
    "dat=np.random.randint(1,7,100000)\n",
    "dat.mean()"
   ]
  },
  {
   "cell_type": "code",
   "execution_count": 7,
   "metadata": {
    "collapsed": true
   },
   "outputs": [],
   "source": [
    "#将取样过程重复10000次\n",
    "b_sample_mean=[]\n",
    "for i in range(10000):\n",
    "    #从总体取10000个样本\n",
    "    b_sample=[]\n",
    "    for i in range(10000):\n",
    "        b_sample.append(dat[int(np.random.random()*len(dat))])\n",
    "    b_sample=np.array(b_sample)\n",
    "    #记录这10000次试验每次的均值\n",
    "    b_sample_mean.append(b_sample.mean())"
   ]
  },
  {
   "cell_type": "code",
   "execution_count": 13,
   "metadata": {},
   "outputs": [
    {
     "data": {
      "text/plain": [
       "<matplotlib.axes._subplots.AxesSubplot at 0x1e9bd62ec88>"
      ]
     },
     "execution_count": 13,
     "metadata": {},
     "output_type": "execute_result"
    },
    {
     "data": {
      "image/png": "[encoded data removed]",
      "text/plain": [
       "<matplotlib.figure.Figure at 0x1e9bd9b0908>"
      ]
     },
     "metadata": {},
     "output_type": "display_data"
    }
   ],
   "source": [
    "#绘制10000次试验结果分布图\n",
    "b_sample_mean=np.array(b_sample_mean)\n",
    "sns.distplot(b_sample_mean)"
   ]
  },
  {
   "cell_type": "markdown",
   "metadata": {
    "collapsed": true
   },
   "source": [
    "## 总结\n",
    "\n",
    "> 可以清楚看到多次抽样结果呈正态分布，对称轴接近3.5，这与直接计算的总体均值一致，成功验证了中心极限定理。"
   ]
  }
 ],
 "metadata": {
  "kernelspec": {
   "display_name": "Python 3",
   "language": "python",
   "name": "python3"
  },
  "language_info": {
   "codemirror_mode": {
    "name": "ipython",
    "version": 3
   },
   "file_extension": ".py",
   "mimetype": "text/x-python",
   "name": "python",
   "nbconvert_exporter": "python",
   "pygments_lexer": "ipython3",
   "version": "3.6.3"
  }
 },
 "nbformat": 4,
 "nbformat_minor": 2
}
